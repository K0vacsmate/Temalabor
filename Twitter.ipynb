{
 "cells": [
  {
   "cell_type": "code",
   "execution_count": null,
   "metadata": {},
   "outputs": [],
   "source": [
    "import tweepy\n",
    "import pandas as pd\n",
    "import csv\n",
    "from textblob import TextBlob\n",
    "from dateutil.parser import parse\n",
    "from twitterscraper import query_tweets\n",
    "import datetime"
   ]
  },
  {
   "cell_type": "code",
   "execution_count": null,
   "metadata": {
    "scrolled": true
   },
   "outputs": [],
   "source": [
    "with open('Twitterkeys.csv', mode='r') as infile:\n",
    "    reader = csv.reader(infile)\n",
    "    keys = {rows[0]:rows[1] for rows in reader}\n",
    "    \n",
    "keys"
   ]
  },
  {
   "cell_type": "code",
   "execution_count": null,
   "metadata": {},
   "outputs": [],
   "source": [
    "auth=tweepy.OAuthHandler(keys['API key'], keys['API secret key'])\n",
    "auth.set_access_token(keys['Access token'], keys['Access token secret'])\n",
    "api=tweepy.API(auth)"
   ]
  },
  {
   "cell_type": "code",
   "execution_count": null,
   "metadata": {},
   "outputs": [],
   "source": [
    "tweets=api.user_timeline(screen_name='CNBC', count=200)\n",
    "tweets"
   ]
  },
  {
   "cell_type": "code",
   "execution_count": null,
   "metadata": {},
   "outputs": [],
   "source": [
    "texts=[]\n",
    "for t in tweets:\n",
    "    texts.append(tuple([t.created_at, t.text, t.favorite_count, TextBlob(t.text).sentiment.polarity, TextBlob(t.text).sentiment.subjectivity]))\n",
    "    \n",
    "texts=pd.DataFrame(texts)\n",
    "texts.columns=['Time', 'Title', 'FavCount', 'Polarity','Subjectivity']\n",
    "texts=texts.set_index('Time')\n",
    "texts"
   ]
  },
  {
   "cell_type": "code",
   "execution_count": null,
   "metadata": {},
   "outputs": [],
   "source": [
    "texts.to_csv('tweets.csv')"
   ]
  }
 ],
 "metadata": {
  "kernelspec": {
   "display_name": "Python 3",
   "language": "python",
   "name": "python3"
  },
  "language_info": {
   "codemirror_mode": {
    "name": "ipython",
    "version": 3
   },
   "file_extension": ".py",
   "mimetype": "text/x-python",
   "name": "python",
   "nbconvert_exporter": "python",
   "pygments_lexer": "ipython3",
   "version": "3.7.4"
  }
 },
 "nbformat": 4,
 "nbformat_minor": 2
}
